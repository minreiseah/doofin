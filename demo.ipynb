{
 "cells": [
  {
   "cell_type": "markdown",
   "metadata": {},
   "source": [
    "# A quickstart guide\n",
    "\n",
    "This guide shall run you through how to get your own trading strategy up and running, and backtested against some mocked data.\n",
    "\n",
    "A trading node, in its current WIP state, consists of three key components:\n",
    "1. `DataClient`: data provider, e.g. minute price data of a stock like AAPL\n",
    "2. `Portfolio`: maintains state of trading portfolio\n",
    "3. `Strategy`: the \"engine\" of the system which contains all business logic"
   ]
  },
  {
   "cell_type": "markdown",
   "metadata": {},
   "source": [
    "## 1. Data Client\n",
    "\n",
    "Every trading strategy requires data to base its decisions off. We use a publisher/subscriber architecture here. Essentially, the `DataClient` publishes data, and the `Strategy` instance subscribes to it. This is done via streaming data from the `DataClient` to `Strategy`.\n",
    "\n",
    "Those who have taken CS2030S would recognise similarities between the event-driven system and the early labs, as well as the pub/sub system to Java `streams`.\n",
    "\n",
    "To begin, we initialise an `aapl_data_client` which *publishes* a stream of minute data. Note that since we have not yet initialised a `Strategy` class, the data client has no subscribers."
   ]
  },
  {
   "cell_type": "code",
   "execution_count": 1,
   "metadata": {},
   "outputs": [],
   "source": [
    "from orbital.data.client import MockBarTickDataClient\n",
    "\n",
    "aapl_data_client = MockBarTickDataClient(\n",
    "    data_file_path='./orbital/data/mocked/AAPL.parquet',\n",
    "    file_type='parquet',\n",
    "    max_ticks=100000,\n",
    "    symbol='aapl'\n",
    "    )"
   ]
  },
  {
   "cell_type": "markdown",
   "metadata": {},
   "source": [
    "We can view the first data point of the stream by calling the *private* function `_fetch_data`."
   ]
  },
  {
   "cell_type": "code",
   "execution_count": 2,
   "metadata": {},
   "outputs": [
    {
     "data": {
      "text/plain": [
       "{'timestamp': Timestamp('2007-04-27 10:43:00'),\n",
       " 'symbol': 'aapl',\n",
       " 'open': 98.41000366210938,\n",
       " 'high': 98.45999908447266,\n",
       " 'low': 98.30000305175781,\n",
       " 'close': 98.30000305175781,\n",
       " 'volume': 46196}"
      ]
     },
     "execution_count": 2,
     "metadata": {},
     "output_type": "execute_result"
    }
   ],
   "source": [
    "dp = aapl_data_client._fetch_data()\n",
    "vars(dp)"
   ]
  },
  {
   "cell_type": "markdown",
   "metadata": {},
   "source": [
    "## 2. Portfolio\n",
    "\n",
    "The `Portfolio` component tracks the current state of the portfolio. Here, we initialise it with starting cash and positions."
   ]
  },
  {
   "cell_type": "code",
   "execution_count": 3,
   "metadata": {},
   "outputs": [],
   "source": [
    "from orbital.portfolio.base import Portfolio\n",
    "\n",
    "demo_portfolio = Portfolio(\n",
    "    cash=1_000_000, # starting free cash\n",
    "    positions=[] # start with empty positions\n",
    ")"
   ]
  },
  {
   "cell_type": "markdown",
   "metadata": {},
   "source": [
    "To get a better understanding of the portfolio, it is made up of `BasePosition` objects. Here, we artifically inject a `InstrumentPosition` into the portfolio."
   ]
  },
  {
   "cell_type": "code",
   "execution_count": 4,
   "metadata": {},
   "outputs": [
    {
     "data": {
      "text/html": [
       "<div>\n",
       "<style scoped>\n",
       "    .dataframe tbody tr th:only-of-type {\n",
       "        vertical-align: middle;\n",
       "    }\n",
       "\n",
       "    .dataframe tbody tr th {\n",
       "        vertical-align: top;\n",
       "    }\n",
       "\n",
       "    .dataframe thead th {\n",
       "        text-align: right;\n",
       "    }\n",
       "</style>\n",
       "<table border=\"1\" class=\"dataframe\">\n",
       "  <thead>\n",
       "    <tr style=\"text-align: right;\">\n",
       "      <th></th>\n",
       "      <th>Symbol</th>\n",
       "      <th>Quantity</th>\n",
       "      <th>Entry Price</th>\n",
       "      <th>Created Time</th>\n",
       "      <th>Updated Time</th>\n",
       "    </tr>\n",
       "  </thead>\n",
       "  <tbody>\n",
       "    <tr>\n",
       "      <th>0</th>\n",
       "      <td>AAPL</td>\n",
       "      <td>100</td>\n",
       "      <td>100</td>\n",
       "      <td>2023-07-23 18:30:17.332748</td>\n",
       "      <td>2023-07-23 18:30:17.332752</td>\n",
       "    </tr>\n",
       "  </tbody>\n",
       "</table>\n",
       "</div>"
      ],
      "text/plain": [
       "  Symbol  Quantity  ...               Created Time               Updated Time\n",
       "0   AAPL       100  ... 2023-07-23 18:30:17.332748 2023-07-23 18:30:17.332752\n",
       "\n",
       "[1 rows x 5 columns]"
      ]
     },
     "execution_count": 4,
     "metadata": {},
     "output_type": "execute_result"
    }
   ],
   "source": [
    "from orbital.model.position import InstrumentPosition\n",
    "\n",
    "temp_position = InstrumentPosition(\n",
    "    symbol=\"AAPL\",\n",
    "    quantity=100,\n",
    "    entry_price=100\n",
    ")\n",
    "\n",
    "demo_portfolio.update_position(temp_position)\n",
    "\n",
    "demo_portfolio.to_dataframe()"
   ]
  },
  {
   "cell_type": "code",
   "execution_count": 5,
   "metadata": {},
   "outputs": [
    {
     "data": {
      "text/html": [
       "<div>\n",
       "<style scoped>\n",
       "    .dataframe tbody tr th:only-of-type {\n",
       "        vertical-align: middle;\n",
       "    }\n",
       "\n",
       "    .dataframe tbody tr th {\n",
       "        vertical-align: top;\n",
       "    }\n",
       "\n",
       "    .dataframe thead th {\n",
       "        text-align: right;\n",
       "    }\n",
       "</style>\n",
       "<table border=\"1\" class=\"dataframe\">\n",
       "  <thead>\n",
       "    <tr style=\"text-align: right;\">\n",
       "      <th></th>\n",
       "      <th>Symbol</th>\n",
       "      <th>Quantity</th>\n",
       "      <th>Entry Price</th>\n",
       "      <th>Created Time</th>\n",
       "      <th>Updated Time</th>\n",
       "    </tr>\n",
       "  </thead>\n",
       "  <tbody>\n",
       "    <tr>\n",
       "      <th>0</th>\n",
       "      <td>AAPL</td>\n",
       "      <td>200</td>\n",
       "      <td>75.0</td>\n",
       "      <td>2023-07-23 18:30:17.332748</td>\n",
       "      <td>2023-07-23 18:30:19.620227</td>\n",
       "    </tr>\n",
       "  </tbody>\n",
       "</table>\n",
       "</div>"
      ],
      "text/plain": [
       "  Symbol  Quantity  ...               Created Time               Updated Time\n",
       "0   AAPL       200  ... 2023-07-23 18:30:17.332748 2023-07-23 18:30:19.620227\n",
       "\n",
       "[1 rows x 5 columns]"
      ]
     },
     "execution_count": 5,
     "metadata": {},
     "output_type": "execute_result"
    }
   ],
   "source": [
    "temp_position = InstrumentPosition(\n",
    "    symbol=\"AAPL\",\n",
    "    quantity=100,\n",
    "    entry_price=50\n",
    ")\n",
    "\n",
    "demo_portfolio.update_position(temp_position)\n",
    "\n",
    "demo_portfolio.to_dataframe()"
   ]
  },
  {
   "cell_type": "code",
   "execution_count": 6,
   "metadata": {},
   "outputs": [
    {
     "name": "stdout",
     "output_type": "stream",
     "text": [
      "realised profit: 1000.0\n"
     ]
    },
    {
     "data": {
      "text/html": [
       "<div>\n",
       "<style scoped>\n",
       "    .dataframe tbody tr th:only-of-type {\n",
       "        vertical-align: middle;\n",
       "    }\n",
       "\n",
       "    .dataframe tbody tr th {\n",
       "        vertical-align: top;\n",
       "    }\n",
       "\n",
       "    .dataframe thead th {\n",
       "        text-align: right;\n",
       "    }\n",
       "</style>\n",
       "<table border=\"1\" class=\"dataframe\">\n",
       "  <thead>\n",
       "    <tr style=\"text-align: right;\">\n",
       "      <th></th>\n",
       "      <th>Symbol</th>\n",
       "      <th>Quantity</th>\n",
       "      <th>Entry Price</th>\n",
       "      <th>Created Time</th>\n",
       "      <th>Updated Time</th>\n",
       "    </tr>\n",
       "  </thead>\n",
       "  <tbody>\n",
       "  </tbody>\n",
       "</table>\n",
       "</div>"
      ],
      "text/plain": [
       "Empty DataFrame\n",
       "Columns: [Symbol, Quantity, Entry Price, Created Time, Updated Time]\n",
       "Index: []"
      ]
     },
     "execution_count": 6,
     "metadata": {},
     "output_type": "execute_result"
    }
   ],
   "source": [
    "temp_position = InstrumentPosition(\n",
    "    symbol=\"AAPL\",\n",
    "    quantity=-200,\n",
    "    entry_price=80\n",
    ")\n",
    "\n",
    "demo_portfolio.update_position(temp_position)\n",
    "print(f'realised profit: {demo_portfolio.realised_profit}')\n",
    "demo_portfolio.to_dataframe()"
   ]
  },
  {
   "cell_type": "markdown",
   "metadata": {},
   "source": [
    "We reset the portfolio before launching our strategy."
   ]
  },
  {
   "cell_type": "code",
   "execution_count": 7,
   "metadata": {},
   "outputs": [],
   "source": [
    "demo_portfolio = Portfolio(\n",
    "    cash=1_000_000, # starting free cash\n",
    "    positions=[], # start with empty positions\n",
    "    history=[]\n",
    ")"
   ]
  },
  {
   "cell_type": "markdown",
   "metadata": {},
   "source": [
    "## 3. Strategy\n",
    "\n",
    "The `Strategy` component serves as the \"engine\" to integrate with the data and portfolio components to process data to generate orders.\n",
    "\n",
    "To begin, we've created a basic `DemoStrategy` which extends from the `BaseStrategy` class. At the moment, any custom `Strategy` must implement only the `handle_data` method.\n",
    "\n",
    "The logic of the `DemoStrategy` is simple, for any instrument:\n",
    "- if not in the portfolio, buy 100 shares of it\n",
    "- if the market price is less than 90% of its price in the portfolio, buy\n",
    "- if the market price is more than 110% of its price in the portfolio, sell"
   ]
  },
  {
   "cell_type": "code",
   "execution_count": 8,
   "metadata": {},
   "outputs": [],
   "source": [
    "from orbital.strategy.demo import DemoStrategy\n",
    "\n",
    "demo_strategy = DemoStrategy(portfolio=demo_portfolio)"
   ]
  },
  {
   "cell_type": "markdown",
   "metadata": {},
   "source": [
    "We now subscribe our `demo_strategy` to the `aapl_data_client` so that our strategy has a data stream to base our logic off."
   ]
  },
  {
   "cell_type": "code",
   "execution_count": 9,
   "metadata": {},
   "outputs": [
    {
     "data": {
      "text/plain": [
       "[<orbital.strategy.demo.DemoStrategy at 0x7fac64f02a30>]"
      ]
     },
     "execution_count": 9,
     "metadata": {},
     "output_type": "execute_result"
    }
   ],
   "source": [
    "aapl_data_client.subscribe(demo_strategy)\n",
    "aapl_data_client.subscribers"
   ]
  },
  {
   "cell_type": "markdown",
   "metadata": {},
   "source": [
    "We now begin streaming data from the `aapl_data_client`. This also implicitly begins the simulation.\n",
    "\n",
    "Note: we know this is bad practice and we will create a TradingNode class or similar to orchestrate this better. If you wish, you may refer to the design decisions log for more information."
   ]
  },
  {
   "cell_type": "code",
   "execution_count": 10,
   "metadata": {},
   "outputs": [
    {
     "name": "stdout",
     "output_type": "stream",
     "text": [
      "Streaming completed\n"
     ]
    }
   ],
   "source": [
    "aapl_data_client.start_streaming()"
   ]
  },
  {
   "cell_type": "markdown",
   "metadata": {},
   "source": [
    "Now that our simulation has ended, let's view some statistics."
   ]
  },
  {
   "cell_type": "code",
   "execution_count": 11,
   "metadata": {},
   "outputs": [
    {
     "data": {
      "text/html": [
       "<div>\n",
       "<style scoped>\n",
       "    .dataframe tbody tr th:only-of-type {\n",
       "        vertical-align: middle;\n",
       "    }\n",
       "\n",
       "    .dataframe tbody tr th {\n",
       "        vertical-align: top;\n",
       "    }\n",
       "\n",
       "    .dataframe thead th {\n",
       "        text-align: right;\n",
       "    }\n",
       "</style>\n",
       "<table border=\"1\" class=\"dataframe\">\n",
       "  <thead>\n",
       "    <tr style=\"text-align: right;\">\n",
       "      <th></th>\n",
       "      <th>Symbol</th>\n",
       "      <th>Quantity</th>\n",
       "      <th>Entry Price</th>\n",
       "      <th>Created Time</th>\n",
       "      <th>Updated Time</th>\n",
       "    </tr>\n",
       "  </thead>\n",
       "  <tbody>\n",
       "    <tr>\n",
       "      <th>0</th>\n",
       "      <td>aapl</td>\n",
       "      <td>3200</td>\n",
       "      <td>145.925626</td>\n",
       "      <td>2023-07-23 18:30:35.146246</td>\n",
       "      <td>2023-07-23 18:30:36.325527</td>\n",
       "    </tr>\n",
       "  </tbody>\n",
       "</table>\n",
       "</div>"
      ],
      "text/plain": [
       "  Symbol  Quantity  ...               Created Time               Updated Time\n",
       "0   aapl      3200  ... 2023-07-23 18:30:35.146246 2023-07-23 18:30:36.325527\n",
       "\n",
       "[1 rows x 5 columns]"
      ]
     },
     "execution_count": 11,
     "metadata": {},
     "output_type": "execute_result"
    }
   ],
   "source": [
    "demo_portfolio.to_dataframe() # end state of portfolio"
   ]
  },
  {
   "cell_type": "code",
   "execution_count": 12,
   "metadata": {},
   "outputs": [
    {
     "data": {
      "text/plain": [
       "{'total_value': 714402.9907226562,\n",
       " 'position_values': 425695.99609375,\n",
       " 'free_cash': 288706.99462890625,\n",
       " 'realised_profit': 27848.999786376953,\n",
       " 'unrealised_profit': -41266.00799560547}"
      ]
     },
     "execution_count": 12,
     "metadata": {},
     "output_type": "execute_result"
    }
   ],
   "source": [
    "demo_portfolio.statistics()"
   ]
  },
  {
   "cell_type": "code",
   "execution_count": 13,
   "metadata": {},
   "outputs": [
    {
     "data": {
      "image/png": "[encoded data removed]",
      "text/plain": [
       "<Figure size 1000x600 with 1 Axes>"
      ]
     },
     "metadata": {},
     "output_type": "display_data"
    }
   ],
   "source": [
    "import pandas as pd\n",
    "import seaborn as sns\n",
    "import matplotlib.pyplot as plt\n",
    "\n",
    "data = [{\n",
    "    'value': state.value,\n",
    "    'created_time': state.created_time\n",
    "    } for state in demo_portfolio.history]\n",
    "\n",
    "df = pd.DataFrame(data)\n",
    "\n",
    "# Convert 'created_time' to datetime format if it isn't already\n",
    "df['created_time'] = pd.to_datetime(df['created_time'])\n",
    "\n",
    "plt.figure(figsize=(10, 6))  # This creates a new figure, and sets the size of the figure\n",
    "sns.lineplot(data=df, x='created_time', y='value')\n",
    "plt.title('Portfolio Value Over Time')\n",
    "plt.xlabel('Date')\n",
    "plt.ylabel('Portfolio Value')\n",
    "plt.grid(True)\n",
    "plt.show()"
   ]
  },
  {
   "cell_type": "markdown",
   "metadata": {},
   "source": [
    "We are done!"
   ]
  }
 ],
 "metadata": {
  "kernelspec": {
   "display_name": "Python 3 (ipykernel)",
   "language": "python",
   "name": "python3"
  },
  "language_info": {
   "codemirror_mode": {
    "name": "ipython",
    "version": 3
   },
   "file_extension": ".py",
   "mimetype": "text/x-python",
   "name": "python",
   "nbconvert_exporter": "python",
   "pygments_lexer": "ipython3",
   "version": "3.8.8"
  },
  "toc": {
   "base_numbering": 1,
   "nav_menu": {},
   "number_sections": true,
   "sideBar": true,
   "skip_h1_title": false,
   "title_cell": "Table of Contents",
   "title_sidebar": "Contents",
   "toc_cell": false,
   "toc_position": {},
   "toc_section_display": true,
   "toc_window_display": false
  },
  "varInspector": {
   "cols": {
    "lenName": 16,
    "lenType": 16,
    "lenVar": 40
   },
   "kernels_config": {
    "python": {
     "delete_cmd_postfix": "",
     "delete_cmd_prefix": "del ",
     "library": "var_list.py",
     "varRefreshCmd": "print(var_dic_list())"
    },
    "r": {
     "delete_cmd_postfix": ") ",
     "delete_cmd_prefix": "rm(",
     "library": "var_list.r",
     "varRefreshCmd": "cat(var_dic_list()) "
    }
   },
   "types_to_exclude": [
    "module",
    "function",
    "builtin_function_or_method",
    "instance",
    "_Feature"
   ],
   "window_display": false
  }
 },
 "nbformat": 4,
 "nbformat_minor": 2
}
